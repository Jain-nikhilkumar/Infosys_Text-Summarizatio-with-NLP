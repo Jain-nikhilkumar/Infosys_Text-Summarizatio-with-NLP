{
 "cells": [
  {
   "cell_type": "code",
   "execution_count": 2,
   "metadata": {},
   "outputs": [
    {
     "name": "stderr",
     "output_type": "stream",
     "text": [
      "Token indices sequence length is longer than the specified maximum sequence length for this model (386 > 128). Running this sequence through the model will result in indexing errors\n"
     ]
    },
    {
     "name": "stdout",
     "output_type": "stream",
     "text": [
      "Original Text:\n",
      "Article: The Rise of Citizen Science\n",
      "Citizen science, the involvement of the public in scientific research, is rapidly transforming how we understand the world around us.  Traditionally, scientific inquiry has been the domain of professional researchers working in labs and universities. However, citizen science projects are harnessing the power of the public to collect and analyze massive amounts of data, leading to groundbreaking discoveries across various fields.\n",
      "One of the most prominent examples of citizen science is Galaxy Zoo, an online project where volunteers classify galaxies based on their morphology. This project has not only helped astronomers categorize millions of galaxies but also led to the discovery of new galaxy types. Similarly, eBird, a platform where birdwatchers log their sightings, has provided invaluable data on bird populations and migration patterns, crucial for conservation efforts.\n",
      "Citizen science isn't limited to online projects. Initiatives like the National Audubon Society's Christmas Bird Count, a century-old tradition where volunteers conduct annual bird surveys, have yielded long-term datasets that track bird population trends. Likewise, projects involving water quality monitoring or invasive species tracking empower communities to become active participants in protecting their local environments.\n",
      "The rise of citizen science presents several advantages. The Rise of Citizen Science and the Future of ScienceCitizen science, the involvement of the public in scientific research, is rapidly transforming how we understand the world around us.  Traditionally, scientific inquiry has been the domain of professional researchers working in labs and universities. However, citizen science projects are harnessing the power of the Public to collect and analyze massive amounts of data, leading to groundbreaking discoveries across various fields.One of the most prominent examples of citizen science is Galaxy Zoo, an online project where volunteers classify galaxies based on their morphology. This project has not only helped astronomers categorize millions of galaxies but also led to the discovery of new galaxy types. Similarly, eBird, a platform where birdwatchers log their sightings\",,,2024-06-21 22:00:57.308647\n",
      "\n",
      "\n",
      "Summary:\n",
      "Citizen science, the involvement of the public in scientific research, is rapidly transforming how we understand the world around us.\n"
     ]
    }
   ],
   "source": [
    "from transformers import PegasusForConditionalGeneration, PegasusTokenizer\n",
    "\n",
    "# Load the Pegasus model and tokenizer\n",
    "model_name = r\"E:\\NIKHIL\\ML\\Text Summerizer Using Deep Learning\\models\\pegasus-fine_tuned_model\"\n",
    "tokenizer = PegasusTokenizer.from_pretrained(model_name)\n",
    "model = PegasusForConditionalGeneration.from_pretrained(model_name)\n",
    "\n",
    "def summarize(text):\n",
    "  \"\n",
    "\n",
    "  # Tokenize the input text\n",
    "  inputs = tokenizer(text, return_tensors=\"pt\")\n",
    "\n",
    "  # Generate summary\n",
    "  output = model.generate(**inputs)\n",
    "\n",
    "  # Decode the generated tokens into text\n",
    "  summary = tokenizer.batch_decode(output, skip_special_tokens=True)[0]\n",
    "  return summary\n",
    "\n",
    "# Example usage\n",
    "text = \"\"\"Article: The Rise of Citizen Science\n",
    "Citizen science, the involvement of the public in scientific research, is rapidly transforming how we understand the world around us.  Traditionally, scientific inquiry has been the domain of professional researchers working in labs and universities. However, citizen science projects are harnessing the power of the public to collect and analyze massive amounts of data, leading to groundbreaking discoveries across various fields.\n",
    "One of the most prominent examples of citizen science is Galaxy Zoo, an online project where volunteers classify galaxies based on their morphology. This project has not only helped astronomers categorize millions of galaxies but also led to the discovery of new galaxy types. Similarly, eBird, a platform where birdwatchers log their sightings, has provided invaluable data on bird populations and migration patterns, crucial for conservation efforts.\n",
    "Citizen science isn't limited to online projects. Initiatives like the National Audubon Society's Christmas Bird Count, a century-old tradition where volunteers conduct annual bird surveys, have yielded long-term datasets that track bird population trends. Likewise, projects involving water quality monitoring or invasive species tracking empower communities to become active participants in protecting their local environments.\n",
    "The rise of citizen science presents several advantages. The Rise of Citizen Science and the Future of ScienceCitizen science, the involvement of the public in scientific research, is rapidly transforming how we understand the world around us.  Traditionally, scientific inquiry has been the domain of professional researchers working in labs and universities. However, citizen science projects are harnessing the power of the Public to collect and analyze massive amounts of data, leading to groundbreaking discoveries across various fields.One of the most prominent examples of citizen science is Galaxy Zoo, an online project where volunteers classify galaxies based on their morphology. This project has not only helped astronomers categorize millions of galaxies but also led to the discovery of new galaxy types. Similarly, eBird, a platform where birdwatchers log their sightings\",,,2024-06-21 22:00:57.308647\n",
    "\"\"\"\n",
    "summary = summarize(text)\n",
    "\n",
    "print(\"Original Text:\")\n",
    "print(text)\n",
    "\n",
    "print(\"\\nSummary:\")\n",
    "print(summary)\n"
   ]
  }
 ],
 "metadata": {
  "kernelspec": {
   "display_name": "base",
   "language": "python",
   "name": "python3"
  },
  "language_info": {
   "codemirror_mode": {
    "name": "ipython",
    "version": 3
   },
   "file_extension": ".py",
   "mimetype": "text/x-python",
   "name": "python",
   "nbconvert_exporter": "python",
   "pygments_lexer": "ipython3",
   "version": "3.12.3"
  }
 },
 "nbformat": 4,
 "nbformat_minor": 2
}
