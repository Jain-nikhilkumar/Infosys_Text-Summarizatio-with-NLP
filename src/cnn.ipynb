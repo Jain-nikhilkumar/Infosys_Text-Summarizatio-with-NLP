{
 "cells": [
  {
   "cell_type": "code",
   "execution_count": 2,
   "metadata": {},
   "outputs": [
    {
     "name": "stderr",
     "output_type": "stream",
     "text": [
      "Saving the dataset (3/3 shards): 100%|██████████| 287113/287113 [00:02<00:00, 120146.89 examples/s]\n",
      "Saving the dataset (1/1 shards): 100%|██████████| 13368/13368 [00:00<00:00, 58148.01 examples/s]\n",
      "Saving the dataset (1/1 shards): 100%|██████████| 11490/11490 [00:00<00:00, 54858.40 examples/s]"
     ]
    },
    {
     "name": "stdout",
     "output_type": "stream",
     "text": [
      "Dataset downloaded and saved locally.\n",
      "Train dataset size: 10000\n",
      "Test dataset size: 10000\n",
      "Validation dataset size: 10000\n"
     ]
    },
    {
     "name": "stderr",
     "output_type": "stream",
     "text": [
      "\n"
     ]
    }
   ],
   "source": [
    "import os\n",
    "from datasets import load_dataset, load_from_disk\n",
    "\n",
    "# Define the path to save/load the dataset\n",
    "dataset_path = \"cnn_dailymail_dataset\"\n",
    "\n",
    "if not os.path.exists(dataset_path):\n",
    "    # Download and save the dataset locally\n",
    "    dataset = load_dataset(\"cnn_dailymail\",\"3.0.0\")\n",
    "    dataset.save_to_disk(dataset_path)\n",
    "    print(\"Dataset downloaded and saved locally.\")\n",
    "else:\n",
    "    # Load the dataset from the local disk\n",
    "    dataset = load_from_disk(dataset_path)\n",
    "    print(\"Dataset loaded from local disk.\")\n",
    "\n",
    "# Use 10,000 records from each split\n",
    "train_dataset = dataset[\"train\"].select(range(10000))\n",
    "test_dataset = dataset[\"test\"].select(range(10000))\n",
    "validation_dataset = dataset[\"validation\"].select(range(10000))\n",
    "\n",
    "print(\"Train dataset size:\", len(train_dataset))\n",
    "print(\"Test dataset size:\", len(test_dataset))\n",
    "print(\"Validation dataset size:\", len(validation_dataset))\n"
   ]
  }
 ],
 "metadata": {
  "kernelspec": {
   "display_name": "base",
   "language": "python",
   "name": "python3"
  },
  "language_info": {
   "codemirror_mode": {
    "name": "ipython",
    "version": 3
   },
   "file_extension": ".py",
   "mimetype": "text/x-python",
   "name": "python",
   "nbconvert_exporter": "python",
   "pygments_lexer": "ipython3",
   "version": "3.12.3"
  }
 },
 "nbformat": 4,
 "nbformat_minor": 2
}
