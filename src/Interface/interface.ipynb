{
 "cells": [
  {
   "cell_type": "code",
   "execution_count": 1,
   "metadata": {},
   "outputs": [
    {
     "name": "stderr",
     "output_type": "stream",
     "text": [
      "c:\\Users\\Admin\\miniconda3\\Lib\\site-packages\\tqdm\\auto.py:21: TqdmWarning: IProgress not found. Please update jupyter and ipywidgets. See https://ipywidgets.readthedocs.io/en/stable/user_install.html\n",
      "  from .autonotebook import tqdm as notebook_tqdm\n"
     ]
    },
    {
     "name": "stdout",
     "output_type": "stream",
     "text": [
      "Running on local URL:  http://127.0.0.1:7860\n",
      "\n",
      "Could not create share link. Please check your internet connection or our status page: https://status.gradio.app.\n"
     ]
    },
    {
     "data": {
      "text/html": [
       "<div><iframe src=\"http://127.0.0.1:7860/\" width=\"100%\" height=\"500\" allow=\"autoplay; camera; microphone; clipboard-read; clipboard-write;\" frameborder=\"0\" allowfullscreen></iframe></div>"
      ],
      "text/plain": [
       "<IPython.core.display.HTML object>"
      ]
     },
     "metadata": {},
     "output_type": "display_data"
    },
    {
     "name": "stdout",
     "output_type": "stream",
     "text": [
      "Keyboard interruption in main thread... closing server.\n"
     ]
    },
    {
     "data": {
      "text/plain": []
     },
     "execution_count": 1,
     "metadata": {},
     "output_type": "execute_result"
    }
   ],
   "source": [
    "import gradio as gr\n",
    "from transformers import BartForConditionalGeneration, BartTokenizer\n",
    "\n",
    "# Load pre-trained model and tokenizer\n",
    "model_path = \"facebook/bart-base\"  # Replace with your fine-tuned model path if necessary\n",
    "model = BartForConditionalGeneration.from_pretrained(model_path)\n",
    "tokenizer = BartTokenizer.from_pretrained(model_path)\n",
    "\n",
    "def summarize_text(text):\n",
    "\n",
    "    if not text.strip():\n",
    "        return \"Please provide some text to summarize.\"\n",
    "    \n",
    "    inputs = tokenizer.encode(\n",
    "        text,\n",
    "        return_tensors=\"pt\",\n",
    "        max_length=1024,\n",
    "        truncation=True,\n",
    "        padding=\"max_length\",\n",
    "    )\n",
    "\n",
    "    summary_ids = model.generate(\n",
    "        inputs,\n",
    "        max_length=150,\n",
    "        num_beams=5,\n",
    "        early_stopping=True,\n",
    "    )\n",
    "\n",
    "    return tokenizer.decode(summary_ids[0], skip_special_tokens=True)\n",
    "\n",
    "# Custom CSS for styling\n",
    "custom_css = \"\"\"\n",
    ".gr-box {\n",
    "    border-radius: 10px;\n",
    "    padding: 20px;\n",
    "    box-shadow: 0 2px 10px rgba(0, 0, 0, 0.1);\n",
    "    margin: 20px 0;\n",
    "    background-color: #fff;\n",
    "}\n",
    "\n",
    ".gr-input, .gr-output {\n",
    "    border: 1px solid #ccc;\n",
    "    border-radius: 5px;\n",
    "    padding: 10px;\n",
    "    font-size: 16px;\n",
    "}\n",
    "\n",
    ".gr-button {\n",
    "    background-color: #007bff;\n",
    "    color: white;\n",
    "    padding: 10px 20px;\n",
    "    border: none;\n",
    "    border-radius: 5px;\n",
    "    font-size: 16px;\n",
    "    cursor: pointer;\n",
    "    transition: background-color 0.3s;\n",
    "}\n",
    "\n",
    ".gr-button:hover {\n",
    "    background-color: #0056b3;\n",
    "}\n",
    "\"\"\"\n",
    "\n",
    "# Create a visually appealing Gradio interface\n",
    "interface = gr.Interface(\n",
    "    fn=summarize_text,\n",
    "    inputs=gr.Textbox(\n",
    "        lines=10,\n",
    "        placeholder=\"Paste your text here...\",\n",
    "        label=\"Input Text\",\n",
    "        elem_classes=\"gr-input\"  # Apply custom CSS class\n",
    "    ),\n",
    "    outputs=gr.Textbox(\n",
    "        label=\"Concise Summary\",\n",
    "        elem_classes=\"gr-output\"  # Apply custom CSS class\n",
    "    ),\n",
    "    title=\"Infosys Springboard Text Summarizer\",\n",
    "    description=\"Get a clear and concise summary of your text in seconds!\",\n",
    "    theme=\"default\",  # Use a built-in theme\n",
    "    css=custom_css  # Add custom CSS\n",
    ")\n",
    "\n",
    "# Launch the interface\n",
    "interface.launch(\n",
    "    share=True,\n",
    "    debug=True  # Enable debug mode for error handling (optional)\n",
    ")\n"
   ]
  }
 ],
 "metadata": {
  "kernelspec": {
   "display_name": "base",
   "language": "python",
   "name": "python3"
  },
  "language_info": {
   "codemirror_mode": {
    "name": "ipython",
    "version": 3
   },
   "file_extension": ".py",
   "mimetype": "text/x-python",
   "name": "python",
   "nbconvert_exporter": "python",
   "pygments_lexer": "ipython3",
   "version": "3.12.3"
  }
 },
 "nbformat": 4,
 "nbformat_minor": 2
}
