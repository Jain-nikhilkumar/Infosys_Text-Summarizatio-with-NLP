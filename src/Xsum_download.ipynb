{
 "cells": [
  {
   "cell_type": "code",
   "execution_count": 1,
   "metadata": {},
   "outputs": [
    {
     "name": "stderr",
     "output_type": "stream",
     "text": [
      "c:\\Users\\Admin\\miniconda3\\Lib\\site-packages\\tqdm\\auto.py:21: TqdmWarning: IProgress not found. Please update jupyter and ipywidgets. See https://ipywidgets.readthedocs.io/en/stable/user_install.html\n",
      "  from .autonotebook import tqdm as notebook_tqdm\n",
      "Saving the dataset (1/1 shards): 100%|██████████| 204045/204045 [00:00<00:00, 242521.34 examples/s]\n",
      "Saving the dataset (1/1 shards): 100%|██████████| 11332/11332 [00:00<00:00, 218892.38 examples/s]\n",
      "Saving the dataset (1/1 shards): 100%|██████████| 11334/11334 [00:00<00:00, 100577.68 examples/s]"
     ]
    },
    {
     "name": "stdout",
     "output_type": "stream",
     "text": [
      "Dataset downloaded and saved locally.\n",
      "DatasetDict({\n",
      "    train: Dataset({\n",
      "        features: ['document', 'summary', 'id'],\n",
      "        num_rows: 204045\n",
      "    })\n",
      "    validation: Dataset({\n",
      "        features: ['document', 'summary', 'id'],\n",
      "        num_rows: 11332\n",
      "    })\n",
      "    test: Dataset({\n",
      "        features: ['document', 'summary', 'id'],\n",
      "        num_rows: 11334\n",
      "    })\n",
      "})\n"
     ]
    },
    {
     "name": "stderr",
     "output_type": "stream",
     "text": [
      "\n"
     ]
    }
   ],
   "source": [
    "import os\n",
    "from datasets import load_dataset, load_from_disk\n",
    "\n",
    "# Define the path to save/load the dataset\n",
    "dataset_path = \"xsum_dataset\"\n",
    "\n",
    "\n",
    "if not os.path.exists(dataset_path):\n",
    "    # Download and save the dataset locally\n",
    "    dataset = load_dataset(\"xsum\")\n",
    "    dataset.save_to_disk(dataset_path)\n",
    "    print(\"Dataset downloaded and saved locally.\")\n",
    "else:\n",
    "    # Load the dataset from the local disk\n",
    "    dataset = load_from_disk(dataset_path)\n",
    "    print(\"Dataset loaded from local disk.\")\n",
    "\n",
    "# Now you can use the dataset\n",
    "print(dataset)\n"
   ]
  }
 ],
 "metadata": {
  "kernelspec": {
   "display_name": "Python 3",
   "language": "python",
   "name": "python3"
  },
  "language_info": {
   "codemirror_mode": {
    "name": "ipython",
    "version": 3
   },
   "file_extension": ".py",
   "mimetype": "text/x-python",
   "name": "python",
   "nbconvert_exporter": "python",
   "pygments_lexer": "ipython3",
   "version": "3.12.3"
  }
 },
 "nbformat": 4,
 "nbformat_minor": 2
}
